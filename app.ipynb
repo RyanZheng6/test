{
 "cells": [
  {
   "cell_type": "code",
   "execution_count": 15,
   "metadata": {},
   "outputs": [],
   "source": [
    "import requests\n",
    "import json\n",
    "import datetime\n",
    "import sentencepiece\n",
    "#%pip install sentencepiece\n",
    "#%pip install torch\n"
   ]
  },
  {
   "cell_type": "code",
   "execution_count": 16,
   "metadata": {},
   "outputs": [
    {
     "name": "stdout",
     "output_type": "stream",
     "text": [
      "Nomura news from the last week:\n",
      "Private-credit salaries: See what 16 nonbank lenders, from Blackstone to Apollo, are paying at all levels\n",
      "https://www.businessinsider.com/private-credit-salaries-compensation-analyst-associate-vp-principal-more-2025-1\n",
      "\n",
      "Ex-Archegos CFO Patrick Halligan sentenced to 8 years after costly collapse roiled Wall Street\n",
      "https://nypost.com/2025/01/27/business/ex-archegos-cfo-patrick-halligan-sentenced-to-8-years/\n",
      "\n",
      "Rupee pain starts to show as India’s top airline pummeled\n",
      "https://economictimes.indiatimes.com/markets/forex/rupee-pain-starts-to-show-as-indias-top-airline-pummeled/articleshow/117718845.cms\n",
      "\n",
      "Shadow Banking Market Sees $134.5 Billion in Revenues by 2030 - Growth of FinTech Platforms and Peer-to-Peer Lending Drives Adoption of Shadow Banking Services\n",
      "https://www.globenewswire.com/news-release/2025/01/31/3018677/28124/en/Shadow-Banking-Market-Sees-134-5-Billion-in-Revenues-by-2030-Growth-of-FinTech-Platforms-and-Peer-to-Peer-Lending-Drives-Adoption-of-Shadow-Banking-Services.html\n",
      "\n",
      "RBA Seen Cutting Rates Next Month, in First Easing in Four Years\n",
      "https://financialpost.com/pmn/business-pmn/rba-seen-cutting-rates-next-month-in-first-easing-in-four-years\n",
      "\n",
      "¿Quién es el dueño de la compañía del avión accidentado en EU?\n",
      "https://www.milenio.com/negocios/quien-es-dueno-de-american-airlines-avion-accidentado-eu\n",
      "\n",
      "Archegos CFO Gets Eight Years in Prison for Defrauding Banks\n",
      "https://www.livemint.com/companies/news/archegos-cfo-gets-eight-years-in-prison-for-defrauding-banks-11737999253496.html\n",
      "\n",
      "Nomura cuts about 10 global markets staff to reduce costs\n",
      "https://www.japantimes.co.jp/business/2025/01/28/companies/nomura-cut-staff/\n",
      "\n",
      "Diretor financeiro da Archegos pega 8 anos prisão por fraudar bancos antes e durante colapso\n",
      "https://valor.globo.com/financas/noticia/2025/01/27/diretor-financeiro-da-archegos-pega-8-anos-prisao-por-fraudar-bancos-antes-e-durante-colapso.ghtml\n",
      "\n"
     ]
    }
   ],
   "source": [
    "#Get last week's news\n",
    "last_week = datetime.datetime.now() - datetime.timedelta(days=7)\n",
    "url = (\n",
    "    'https://newsapi.org/v2/everything?'\n",
    "    'q=\"Nomura Holdings\"&'  # Use double quotes to ensure the search is more precise\n",
    "    'from=' + last_week.strftime('%Y-%m-%d') + '&'  # Start date for the news\n",
    "    'sortBy=popularity&'  # Sort results by popularity\n",
    "    'apiKey=1fd881e0e51d4752a86d6bdb7590201b'  # Your API key\n",
    ")\n",
    "\n",
    "response = requests.get(url)\n",
    "data = response.json()\n",
    "\n",
    "#Print the news\n",
    "print('Nomura news from the last week:')\n",
    "for article in data['articles']:\n",
    "    print(article['title'])\n",
    "    print(article['url'])\n",
    "    print()"
   ]
  },
  {
   "cell_type": "code",
   "execution_count": 17,
   "metadata": {},
   "outputs": [
    {
     "name": "stderr",
     "output_type": "stream",
     "text": [
      "c:\\Users\\zheng\\anaconda3\\Lib\\site-packages\\transformers\\models\\auto\\modeling_auto.py:1468: FutureWarning: The class `AutoModelWithLMHead` is deprecated and will be removed in a future version. Please use `AutoModelForCausalLM` for causal language models, `AutoModelForMaskedLM` for masked language models and `AutoModelForSeq2SeqLM` for encoder-decoder models.\n",
      "  warnings.warn(\n"
     ]
    },
    {
     "name": "stdout",
     "output_type": "stream",
     "text": [
      "Private credit is booming, which has resulted in a hiring spree. Business Insider looked at visa data and job listings to see what's new in the country's economy. The report was based on a study by a private credit analyst. It also revealed that private credit is booming, which has resulted in a hiring spree.\n",
      "\n",
      "former chief financial officer of Archegos Capital Management was sentenced on Monday to eight years in prison for his role in the firm's 2021 collapse, which cost Wall Street banks more than $1 billion. Archegos was a major player in the global financial crisis that led to the collapse of the global financial services giant in 2021. He was also the first person to be sentenced to eight years in prison for his role in the firm's collapse. Notably, his role in the firm's 2021 collapse cost banks over $1 billion.\n",
      "\n",
      "after two years of calm, the rupees sudden slide is starting to strain Indian corporate earnings, sparking a rush among some companies to hedge their currency exposures. \"InterGlobe Aviation Ltd., whic... [+2751 chars],\" InterGlobe Aviation said. \"InterGlobe... [+2751 chars]...[+2751 chars]...[+2751 chars]...[+2751 chars]...[+2751 chars]...\n",
      "\n",
      "ResearchAndMarkets.com has published a report on the global market for Shadow Banking. The report has been titled 'Shadow Banking - Global Strategic Business Report'. The report aims to provide insights into the global Shadow Banking market. The report aims to provide insights into the global Shadow Banking market. The report aims to provide insights into the global Shadow Banking market.\n",
      "\n",
      "Australia's central bank will embark on interest-rate cuts next month, according to a majority of economists polled by Bloomberg. This would be Australia's first monetary easing in more than a decade, according to Bloomberg. The cuts would be the country's first monetary easing in more than a decade.nnnnnnnnnnnnnnnnnnnnnnnnnnnnnnnnnnnnnnnnnnnnn...\n",
      "\n"
     ]
    }
   ],
   "source": [
    "# Summarize the news content\n",
    "from transformers import AutoModelWithLMHead, AutoTokenizer\n",
    "\n",
    "# Load the pre-trained tokenizer and model\n",
    "tokenizer = AutoTokenizer.from_pretrained(\"mrm8488/t5-base-finetuned-summarize-news\")\n",
    "model = AutoModelWithLMHead.from_pretrained(\"mrm8488/t5-base-finetuned-summarize-news\")\n",
    "\n",
    "# Iterate over each article in the data (for this example, we'll only look at the first 5 articles)\n",
    "summaryList = []\n",
    "for i, article in enumerate(data['articles']):\n",
    "    if i >= 5:\n",
    "        break\n",
    "    # Encode the article content\n",
    "    inputs = tokenizer.encode(\"summarize: \" + article['content'], return_tensors=\"pt\", max_length=512, truncation=True)\n",
    "    \n",
    "    # Generate the summary\n",
    "    outputs = model.generate(inputs, max_length=300, min_length=40, length_penalty=2.0, num_beams=4, early_stopping=True)\n",
    "    \n",
    "    # Decode the summary\n",
    "    summary = tokenizer.decode(outputs[0], skip_special_tokens=True)\n",
    "    summaryList.append(summary)\n",
    "    # Print the summary\n",
    "    print(summary)\n",
    "    print()\n",
    "\n"
   ]
  },
  {
   "cell_type": "code",
   "execution_count": 18,
   "metadata": {},
   "outputs": [
    {
     "name": "stdout",
     "output_type": "stream",
     "text": [
      "Very Positive\n",
      "\n",
      "Very Negative\n",
      "\n",
      "Negative\n",
      "\n",
      "Neutral\n",
      "\n",
      "Neutral\n",
      "\n"
     ]
    }
   ],
   "source": [
    "# Use sentiment analysis to determine the sentiment of the news\n",
    "from transformers import pipeline\n",
    "\n",
    "# Load the classification pipeline with the specified model\n",
    "pipe = pipeline(\"text-classification\", model=\"tabularisai/multilingual-sentiment-analysis\")\n",
    "\n",
    "# Iterate over each article in the summaryList (for this example, we'll only look at the first 5 articles)\n",
    "sentimentList = []\n",
    "for i, summary in enumerate(summaryList):\n",
    "    if i >= 5:\n",
    "        break\n",
    "    # Classify the sentiment of the summary\n",
    "    sentiment = pipe(summary)[0]['label']\n",
    "    sentimentList.append(sentiment)\n",
    "    # Print the sentiment\n",
    "    print(sentiment)\n",
    "    print()"
   ]
  }
 ],
 "metadata": {
  "kernelspec": {
   "display_name": "gameai",
   "language": "python",
   "name": "python3"
  },
  "language_info": {
   "codemirror_mode": {
    "name": "ipython",
    "version": 3
   },
   "file_extension": ".py",
   "mimetype": "text/x-python",
   "name": "python",
   "nbconvert_exporter": "python",
   "pygments_lexer": "ipython3",
   "version": "3.11.5"
  }
 },
 "nbformat": 4,
 "nbformat_minor": 2
}
